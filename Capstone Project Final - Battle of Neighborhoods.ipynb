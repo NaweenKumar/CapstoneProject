{
 "cells": [
  {
   "cell_type": "markdown",
   "id": "unexpected-forwarding",
   "metadata": {},
   "source": [
    "# Capstone Project - New York Community Districts\n",
    "### Applied Data Science Capstone by IBM/Coursera"
   ]
  },
  {
   "cell_type": "markdown",
   "id": "jewish-smell",
   "metadata": {},
   "source": [
    "## Introduction"
   ]
  },
  {
   "cell_type": "markdown",
   "id": "spanish-heading",
   "metadata": {},
   "source": [
    "The project will aim to compare the \"livability\" of 55 New York Community Districts based on various socio-economic parameters. This will include various factors like restaurants and night life ('social life parameters'), proximity of schools, colleges and stores ('basic needs'), crime rates and medical facilities ('hygiene'), commute times and incomes ('employment'). Finally, Community Districts will also be compared on other social parameters like racial composition and education profiles.\n",
    "\n",
    "The comparison is being done at community district level because of 3 main reasons (a)Census data is available with low error margins at this aggregation level (b)The problem of missing data is minimized (c)State/Government interventions are done at Community District level through the various Community District boards"
   ]
  },
  {
   "cell_type": "markdown",
   "id": "professional-attachment",
   "metadata": {},
   "source": [
    "## Data"
   ]
  },
  {
   "cell_type": "markdown",
   "id": "green-supplier",
   "metadata": {},
   "source": [
    "Data will be sourced from 3 major sources:\n",
    "\n",
    "1. **Venue data from Foursquare**: Data on restaurants, night life spots, schools, colleges, stores, medical facilities. To increase the number of results in neighborhood search, the search will be done with specific category IDs detailed at https://developer.foursquare.com/docs/build-with-foursquare/categories/  \n",
    "\n",
    "2. **Crime data**: Historical crime data by precinct is made available by NYPD on the website https://www1.nyc.gov/site/nypd/stats/crime-statistics/historical.page .\n",
    "\n",
    "3. **Socio-economic data**: Data on income, racial composition, education, poverty, commute times etc will be obtained from the various editions of the American Community Survey (ACS). Data is downloaded from the census website at https://data.census.gov/cedsci/\n",
    "\n",
    "In addition to the above, geojson map data for community districts will be obtained from https://www1.nyc.gov/site/planning/data-maps/open-data/districts-download-metadata.page \n",
    "\n",
    "Since the data is available for different geographical aggregation levels for each type of data, a mapping will be needed among these various geographical levels. Hence, precinct->neighborhood->PUMA ->community district relationships shall need to be obtained. Additionally, naming conventions of same area differ in the various datasets so an equivalence mapping will have to be used. In cases where an exhaustive listing cannot be obtained, the website https://boundaries.beta.nyc/ shall be used which lists different administrative demarcations in map form."
   ]
  },
  {
   "cell_type": "code",
   "execution_count": null,
   "id": "reduced-paris",
   "metadata": {},
   "outputs": [],
   "source": []
  }
 ],
 "metadata": {
  "kernelspec": {
   "display_name": "Python 3",
   "language": "python",
   "name": "python3"
  },
  "language_info": {
   "codemirror_mode": {
    "name": "ipython",
    "version": 3
   },
   "file_extension": ".py",
   "mimetype": "text/x-python",
   "name": "python",
   "nbconvert_exporter": "python",
   "pygments_lexer": "ipython3",
   "version": "3.8.5"
  }
 },
 "nbformat": 4,
 "nbformat_minor": 5
}
